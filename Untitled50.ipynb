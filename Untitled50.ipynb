{
 "cells": [
  {
   "cell_type": "markdown",
   "id": "eeab3c9d",
   "metadata": {},
   "source": [
    "# Assignment 13 Solutions"
   ]
  },
  {
   "cell_type": "markdown",
   "id": "9c554902",
   "metadata": {},
   "source": [
    "### 1. What advantages do Excel spreadsheets have over CSV spreadsheets?"
   ]
  },
  {
   "cell_type": "markdown",
   "id": "7d37f6ef",
   "metadata": {},
   "source": [
    "Ans: The Advantages of Excel over CSV are:\n",
    "\n",
    "1. Excel (XLS and XLSX) file formats are better for storing and    analysing complex data.\n",
    "2. An Excel not only stores data but can also do operations on      the data using macros, formulas etc\n",
    "3. CSV files are plain-text files, Does not contain formatting,    formulas, macros, etc. It is also known as flat files"
   ]
  },
  {
   "cell_type": "markdown",
   "id": "d0800357",
   "metadata": {},
   "source": [
    "### 2.What do you pass to csv.reader() and csv.writer() to create reader and writer objects?"
   ]
  },
  {
   "cell_type": "code",
   "execution_count": null,
   "id": "2f53c100",
   "metadata": {},
   "outputs": [],
   "source": [
    "#we pass a File object, obtained from a call to open().\n",
    "import csv\n",
    "file_csv = open('abc.csv')\n",
    "filereader = csv.reader(file_csv)\n",
    "fileData = list(filereader)\n",
    "fileData"
   ]
  },
  {
   "cell_type": "markdown",
   "id": "483f8eb7",
   "metadata": {},
   "source": [
    "### 3.What modes do File objects for reader and writer objects need to be opened in?"
   ]
  },
  {
   "cell_type": "markdown",
   "id": "c1d39d0a",
   "metadata": {},
   "source": [
    "Ans. File objects need to be opened in read-binary ('rb') for Reader objects and write-binary ('wb') for Writer objects"
   ]
  },
  {
   "cell_type": "markdown",
   "id": "23c7768b",
   "metadata": {},
   "source": [
    "### 4. What method takes a list argument and writes it to a CSV file?"
   ]
  },
  {
   "cell_type": "code",
   "execution_count": null,
   "id": "cf0270c0",
   "metadata": {},
   "outputs": [],
   "source": [
    "#The writerow() method\n",
    "File_abc = open('abc.csv','w')\n",
    "File_Writer = csv.writer(File_abc)\n",
    "csv.writer(File_abc).writerow(['cat','fish','dog'])"
   ]
  },
  {
   "cell_type": "markdown",
   "id": "b6875081",
   "metadata": {},
   "source": [
    "### 5. What do the keyword arguments delimiter and line terminator do?\n",
    "\n"
   ]
  },
  {
   "cell_type": "markdown",
   "id": "213b1674",
   "metadata": {},
   "source": [
    "Ans:\n",
    "\n",
    "1. The delimiter argument changes the string used to separate      cells in a row.\n",
    "2. The line terminator argument changes the string used to          separate rows.\n"
   ]
  },
  {
   "cell_type": "markdown",
   "id": "bb104318",
   "metadata": {},
   "source": [
    "### 6. What function takes a string of JSON data and returns a Python data structure?"
   ]
  },
  {
   "cell_type": "markdown",
   "id": "2b951635",
   "metadata": {},
   "source": [
    "Ans. json.loads()"
   ]
  },
  {
   "cell_type": "markdown",
   "id": "b2a9a24b",
   "metadata": {},
   "source": [
    "### 7. What function takes a Python data structure and returns a string of JSON data?"
   ]
  },
  {
   "cell_type": "markdown",
   "id": "759676ef",
   "metadata": {},
   "source": [
    "Ans. json.dumps()"
   ]
  },
  {
   "cell_type": "code",
   "execution_count": null,
   "id": "fbf9e944",
   "metadata": {},
   "outputs": [],
   "source": []
  }
 ],
 "metadata": {
  "kernelspec": {
   "display_name": "Python 3 (ipykernel)",
   "language": "python",
   "name": "python3"
  },
  "language_info": {
   "codemirror_mode": {
    "name": "ipython",
    "version": 3
   },
   "file_extension": ".py",
   "mimetype": "text/x-python",
   "name": "python",
   "nbconvert_exporter": "python",
   "pygments_lexer": "ipython3",
   "version": "3.9.12"
  }
 },
 "nbformat": 4,
 "nbformat_minor": 5
}
